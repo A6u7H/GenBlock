{
 "cells": [
  {
   "cell_type": "code",
   "execution_count": 6,
   "id": "38ce3fb6-2eae-45be-9043-a1867f3258fe",
   "metadata": {},
   "outputs": [],
   "source": [
    "import os\n",
    "import cv2\n",
    "import rembg\n",
    "import numpy as np\n",
    "import matplotlib.pyplot as plt\n",
    "\n",
    "from tqdm import tqdm\n",
    "from PIL import Image"
   ]
  },
  {
   "cell_type": "code",
   "execution_count": 7,
   "id": "05e2e12d-6227-49d3-bd05-5c0f5beb307b",
   "metadata": {},
   "outputs": [],
   "source": [
    "class_object = \"sword\"\n",
    "shield_path_src = f\"/home/dkrivenkov/Pictures/{class_object}\"\n",
    "shield_path_tgt = f\"/home/dkrivenkov/Pictures/dataset_{class_object}\""
   ]
  },
  {
   "cell_type": "code",
   "execution_count": 36,
   "id": "de7d57a0-d874-4fad-b953-7ca0efddbf71",
   "metadata": {},
   "outputs": [
    {
     "name": "stderr",
     "output_type": "stream",
     "text": [
      "100%|████████████████████████████████████████████████████████████████████████████████████████████████████████████████████████████████████████████████████████| 28/28 [00:00<00:00, 71.34it/s]\n",
      "112it [01:30,  1.24it/s]\n"
     ]
    }
   ],
   "source": [
    "images = []\n",
    "for image_name in tqdm(os.listdir(shield_path_src)):\n",
    "    image_path = os.path.join(shield_path_src, image_name)\n",
    "    image_patch = cv2.imread(image_path, cv2.IMREAD_UNCHANGED)\n",
    "    w, h, c = image_patch.shape\n",
    "    center_w = w //2\n",
    "    center_h = h //2\n",
    "    \n",
    "    images.append(image_patch[0:center_w, 0:center_h])\n",
    "    images.append(image_patch[0:center_w, center_h:h])\n",
    "    images.append(image_patch[center_w:w, center_h:h])\n",
    "    images.append(image_patch[center_w:w, 0:center_h])\n",
    "    \n",
    "for i, image in tqdm(enumerate(images)):\n",
    "    clean_image = rembg.remove(\n",
    "        image,\n",
    "        alpha_matting=True,\n",
    "        alpha_matting_foreground_threshold=10,\n",
    "        alpha_matting_background_threshold=1,\n",
    "        alpha_matting_erode_size=5,\n",
    "        post_process_mask=False\n",
    "    )\n",
    "    cv2.imwrite(\n",
    "        os.path.join(shield_path_tgt, f\"{class_object}_{i}.png\"),\n",
    "        clean_image\n",
    "    )"
   ]
  }
 ],
 "metadata": {
  "kernelspec": {
   "display_name": "Python (env39)",
   "language": "python",
   "name": "env39"
  },
  "language_info": {
   "codemirror_mode": {
    "name": "ipython",
    "version": 3
   },
   "file_extension": ".py",
   "mimetype": "text/x-python",
   "name": "python",
   "nbconvert_exporter": "python",
   "pygments_lexer": "ipython3",
   "version": "3.9.15"
  }
 },
 "nbformat": 4,
 "nbformat_minor": 5
}
